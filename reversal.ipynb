{
 "cells": [
  {
   "cell_type": "code",
   "execution_count": null,
   "id": "0a12f778",
   "metadata": {},
   "outputs": [],
   "source": [
    "import pandas as pd"
   ]
  },
  {
   "cell_type": "code",
   "execution_count": null,
   "id": "57c109dd",
   "metadata": {},
   "outputs": [],
   "source": [
    "reversal = pd.read_csv(\"shekel.csv\")"
   ]
  },
  {
   "cell_type": "code",
   "execution_count": null,
   "id": "d83832c5",
   "metadata": {},
   "outputs": [],
   "source": [
    "reversal"
   ]
  }
 ],
 "metadata": {
  "kernelspec": {
   "display_name": ".venv",
   "language": "python",
   "name": "python3"
  },
  "language_info": {
   "name": "python",
   "version": "3.13.3"
  }
 },
 "nbformat": 4,
 "nbformat_minor": 5
}
